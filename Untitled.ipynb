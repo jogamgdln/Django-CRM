{
 "cells": [
  {
   "cell_type": "code",
   "execution_count": 6,
   "id": "17671ff6",
   "metadata": {},
   "outputs": [],
   "source": [
    "# Install-Mysql-on-Computer\n",
    "# https://dev.mysql.com/downloads/installer\n",
    "# pip install mysql\n",
    "# pip install mysql-connector\n",
    "# pip install mysql-connector-python\n",
    "\n",
    "import mysql.connector\n"
   ]
  },
  {
   "cell_type": "code",
   "execution_count": 10,
   "id": "740a3c08",
   "metadata": {},
   "outputs": [
    {
     "name": "stdout",
     "output_type": "stream",
     "text": [
      "Digita el nombre para la base de datos: ServicioCamaras\n"
     ]
    }
   ],
   "source": [
    "dataBase = mysql.connector.connect(\n",
    "    host = 'localhost',\n",
    "    user = 'root',\n",
    "    passwd = 'clave123'\n",
    ") \n",
    "\n",
    "# prpare a cursor object\n",
    "cursorObject = dataBase.cursor()\n",
    "\n",
    "nombreBD = input('Digita el nombre para la base de datos: ')\n",
    "\n",
    "# Crate a database\n",
    "cursorObject.execute('CREATE DATABASE '+ nombreBD)\n",
    "\n"
   ]
  },
  {
   "cell_type": "code",
   "execution_count": 11,
   "id": "40d60f42",
   "metadata": {},
   "outputs": [
    {
     "name": "stdout",
     "output_type": "stream",
     "text": [
      "All Done!\n"
     ]
    }
   ],
   "source": [
    "print('All Done!')"
   ]
  },
  {
   "cell_type": "code",
   "execution_count": null,
   "id": "5092d2f4",
   "metadata": {},
   "outputs": [],
   "source": []
  },
  {
   "cell_type": "code",
   "execution_count": null,
   "id": "a55b9df3",
   "metadata": {},
   "outputs": [],
   "source": []
  },
  {
   "cell_type": "code",
   "execution_count": null,
   "id": "d0a44492",
   "metadata": {},
   "outputs": [],
   "source": []
  }
 ],
 "metadata": {
  "kernelspec": {
   "display_name": "Python 3 (ipykernel)",
   "language": "python",
   "name": "python3"
  },
  "language_info": {
   "codemirror_mode": {
    "name": "ipython",
    "version": 3
   },
   "file_extension": ".py",
   "mimetype": "text/x-python",
   "name": "python",
   "nbconvert_exporter": "python",
   "pygments_lexer": "ipython3",
   "version": "3.11.5"
  }
 },
 "nbformat": 4,
 "nbformat_minor": 5
}
